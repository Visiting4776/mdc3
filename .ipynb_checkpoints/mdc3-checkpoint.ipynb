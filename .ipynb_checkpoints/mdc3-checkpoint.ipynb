{
 "cells": [
  {
   "cell_type": "code",
   "execution_count": 2,
   "id": "23251f01-9bc4-47ca-812a-ab9d7761ec6c",
   "metadata": {},
   "outputs": [],
   "source": [
    "import numpy as np\n",
    "import matplotlib.pyplot as plt"
   ]
  },
  {
   "cell_type": "code",
   "execution_count": 16,
   "id": "264cc765-20dd-401c-9e51-dc0bd83615c8",
   "metadata": {},
   "outputs": [],
   "source": [
    "def cov(X: list[float],Y: list[float], bias: bool=True):\n",
    "    # bias: if True, the denominator will be n, otherwise (n - 1).\n",
    "    # see: https://math.stackexchange.com/q/2936143/\n",
    "    return np.cov(X,Y, bias)[0][1]\n",
    "\n",
    "\n",
    "def detrend(X: list[float], Y: list[float], deg: int=2) -> list[float]:\n",
    "    coefficients = np.polyfit(X, Y, deg)\n",
    "    trend = np.polyval(coefficients, X)\n",
    "    \n",
    "    return Y - trend"
   ]
  },
  {
   "cell_type": "code",
   "execution_count": 19,
   "id": "ec62df79-690a-44af-8986-080bb8c0f064",
   "metadata": {},
   "outputs": [],
   "source": [
    "if __name__ == '__main__':\n",
    "    np.random.seed(2022) # fix the random seed to get the same result each run\n",
    "\n",
    "    x = np.arange(50)\n",
    "    y = np.linspace(20, 30, 50) + np.random.uniform(0, 6, 50)\n",
    "    \n",
    "    detrend(x, y)"
   ]
  }
 ],
 "metadata": {
  "kernelspec": {
   "display_name": "Python 3 (ipykernel)",
   "language": "python",
   "name": "python3"
  },
  "language_info": {
   "codemirror_mode": {
    "name": "ipython",
    "version": 3
   },
   "file_extension": ".py",
   "mimetype": "text/x-python",
   "name": "python",
   "nbconvert_exporter": "python",
   "pygments_lexer": "ipython3",
   "version": "3.9.12"
  }
 },
 "nbformat": 4,
 "nbformat_minor": 5
}
