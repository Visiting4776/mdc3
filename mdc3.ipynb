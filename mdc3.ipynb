{
 "cells": [
  {
   "cell_type": "code",
   "execution_count": 2,
   "id": "23251f01-9bc4-47ca-812a-ab9d7761ec6c",
   "metadata": {},
   "outputs": [],
   "source": [
    "import numpy as np\n",
    "import matplotlib.pyplot as plt"
   ]
  },
  {
   "cell_type": "code",
   "execution_count": 3,
   "id": "264cc765-20dd-401c-9e51-dc0bd83615c8",
   "metadata": {},
   "outputs": [],
   "source": [
    "def cov(X: list[float],Y: list[float], bias: bool=True):\n",
    "    # bias: if true, the denominator will be\n",
    "    return np.cov(X,Y, bias)[0][1]\n",
    "\n",
    "def detrend(X: list[float], Y: list[float], deg: int=2) -> list[float]:\n",
    "    coefficients = np.polyfit(X, Y, deg)\n",
    "    trend = np.polyval(coefficients, X)\n",
    "\n",
    "    # fig, axes = plt.subplots(nrows=2, sharex=True)\n",
    "    # axes[0].plot(X, Y, 'k')\n",
    "    # axes[0].plot(X, predicted, 'b')\n",
    "    # axes[0].set(title = f'Original series and {deg}. degree fit')\n",
    "\n",
    "    # axes[1].plot(X, Y - predicted, 'k')\n",
    "    # axes[1].set(title = f'Detrended series')\n",
    "    # plt.show()\n",
    "    return Y - predicted"
   ]
  },
  {
   "cell_type": "code",
   "execution_count": 12,
   "id": "ec62df79-690a-44af-8986-080bb8c0f064",
   "metadata": {},
   "outputs": [],
   "source": [
    "if __name__ == '__main__':\n",
    "    np.random.seed(2022) # fix the random seed to get the same result each run\n",
    "\n",
    "    x = np.arange(50)\n",
    "    y = np.linspace(20, 30, 50) + np.random.uniform(0, 6, 50)\n",
    "    \n",
    "    detrend(x, y)\n"
   ]
  },
  {
   "cell_type": "code",
   "execution_count": null,
   "id": "e6045c9e-8532-4a1a-8471-1c8eee87492f",
   "metadata": {},
   "outputs": [],
   "source": []
  }
 ],
 "metadata": {
  "kernelspec": {
   "display_name": "Python 3 (ipykernel)",
   "language": "python",
   "name": "python3"
  },
  "language_info": {
   "codemirror_mode": {
    "name": "ipython",
    "version": 3
   },
   "file_extension": ".py",
   "mimetype": "text/x-python",
   "name": "python",
   "nbconvert_exporter": "python",
   "pygments_lexer": "ipython3",
   "version": "3.9.12"
  }
 },
 "nbformat": 4,
 "nbformat_minor": 5
}
